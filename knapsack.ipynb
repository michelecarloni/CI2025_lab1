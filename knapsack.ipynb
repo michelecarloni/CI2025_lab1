{
 "cells": [
  {
   "cell_type": "markdown",
   "id": "11fa4375",
   "metadata": {},
   "source": [
    "Copyright **`(c)`** 2025 Giovanni Squillero `<giovanni.squillero@polito.it>`  \n",
    "[`https://github.com/squillero/computational-intelligence`](https://github.com/squillero/computational-intelligence)  \n",
    "Free under certain conditions — see the [`license`](https://github.com/squillero/computational-intelligence/blob/master/LICENSE.md) for details.  "
   ]
  },
  {
   "cell_type": "markdown",
   "id": "c095bc1a",
   "metadata": {},
   "source": [
    "## Problem Description\n",
    "\n",
    "random notes: \n",
    "\n",
    "- GOAL: maximizing the value and minimizing the weight of objects carried by the <NUM_KNAPSACKS> knapsacks\n",
    "\n",
    "- We should respect the contraints on the weight, which defines how much weights a knapsack can carry.\n",
    "\n",
    "- a dimension defines a contraint on a napsack.\n",
    "Ex. [x, y, z] -> 3 constraints on backpack 1.\n",
    "\n",
    "- The solution is represented by a 2D matrix (NUM_KNAPSACKS, NUM_ITEMS). Each row represents a knapsack and for each row we have a list of carried items where its length = NUM_ITEMS. Each element of the list is either a 1 if the knapsack carries the item, or is 0 if it doesn't carry the item.\n",
    "\n",
    "- the fitness of the function is defined by overall value carried by all the knapsacks combined (sum of single total value of each knapsack)"
   ]
  },
  {
   "cell_type": "code",
   "execution_count": 18,
   "id": "c0882a9f",
   "metadata": {},
   "outputs": [],
   "source": [
    "import numpy as np\n",
    "from random import randint\n",
    "import math"
   ]
  },
  {
   "cell_type": "code",
   "execution_count": 19,
   "id": "3adb670e",
   "metadata": {},
   "outputs": [],
   "source": [
    "NUM_KNAPSACKS = 3\n",
    "NUM_ITEMS = 10\n",
    "NUM_DIMENSIONS = 2"
   ]
  },
  {
   "cell_type": "code",
   "execution_count": 20,
   "id": "2db51e99",
   "metadata": {},
   "outputs": [],
   "source": [
    "VALUES = np.random.randint(0, 100, size=NUM_ITEMS)\n",
    "WEIGHTS = np.random.randint(0, 100, size=(NUM_ITEMS, NUM_DIMENSIONS))\n",
    "CONSTRAINTS = np.random.randint(\n",
    "    0, 100 * NUM_ITEMS // NUM_KNAPSACKS, size=(NUM_KNAPSACKS, NUM_DIMENSIONS)\n",
    ")"
   ]
  },
  {
   "cell_type": "code",
   "execution_count": 21,
   "id": "15da2136",
   "metadata": {},
   "outputs": [
    {
     "data": {
      "text/plain": [
       "array([[174,  21],\n",
       "       [173, 162],\n",
       "       [327, 151]])"
      ]
     },
     "execution_count": 21,
     "metadata": {},
     "output_type": "execute_result"
    }
   ],
   "source": [
    "CONSTRAINTS"
   ]
  },
  {
   "cell_type": "code",
   "execution_count": 22,
   "id": "995c10cf",
   "metadata": {},
   "outputs": [],
   "source": [
    "# A random solution - starting point\n",
    "solution = np.array(\n",
    "    [np.random.random(NUM_ITEMS) < 0.5 for _ in range(NUM_KNAPSACKS)], dtype=np.bool\n",
    ")"
   ]
  },
  {
   "cell_type": "markdown",
   "id": "843ee7f4",
   "metadata": {},
   "source": [
    "### UTILS"
   ]
  },
  {
   "cell_type": "code",
   "execution_count": 23,
   "id": "f8fcf3bc",
   "metadata": {},
   "outputs": [],
   "source": [
    "def get_problem(NUM_KNAPSACKS, NUM_ITEMS, NUM_DIMENSIONS, VALUES, WEIGHTS, CONSTRAINTS):\n",
    "    return {\n",
    "        \"NUM_KNAPSACKS\": NUM_KNAPSACKS,\n",
    "        \"NUM_ITEMS\": NUM_ITEMS,\n",
    "        \"NUM_DIMENSIONS\": NUM_DIMENSIONS,\n",
    "        \"VALUES\": VALUES,\n",
    "        \"WEIGHTS\": WEIGHTS,\n",
    "        \"CONSTRAINTS\": CONSTRAINTS,\n",
    "    }"
   ]
  },
  {
   "cell_type": "code",
   "execution_count": 24,
   "id": "53141f6b",
   "metadata": {},
   "outputs": [],
   "source": [
    "def generate_random_solution(num_knapsacks, num_items):\n",
    "    \"\"\"\n",
    "    generate a pure random solution. In this case is possible to start\n",
    "    from a starting point where you have items that are carried by more than 1 knapsack.\n",
    "    \"\"\"\n",
    "    \n",
    "    solution = np.array(\n",
    "        [np.random.random(num_items) < 0.5 for _ in range(num_knapsacks)], dtype=np.int8\n",
    "    )\n",
    "\n",
    "    return solution"
   ]
  },
  {
   "cell_type": "code",
   "execution_count": 25,
   "id": "12d88b46",
   "metadata": {},
   "outputs": [],
   "source": [
    "def generate_clean_random_solution(num_knapsacks, num_items):\n",
    "    \"\"\"\n",
    "    generate a random solution that satisfy the first constraint\n",
    "    (that is each item is either not carried or carried from exactly 1 item).\n",
    "    \"\"\"\n",
    "\n",
    "    # generate a 2D matrix (num_knapsacks, num_items) full of 0s.\n",
    "    solution = np.zeros((num_knapsacks, num_items), dtype=int)\n",
    "\n",
    "    # iterate over the columns\n",
    "    for item_idx in range(num_items):\n",
    "\n",
    "        # generate random number:\n",
    "        # if 0 the item is not carried\n",
    "        # if 1 the item is carried by 1 knapsack\n",
    "        carried = randint(0, 1)\n",
    "    \n",
    "        if carried == 0:\n",
    "            continue\n",
    "        \n",
    "        # generate a random index that identifies the knapsack that carries the item\n",
    "        id_knapsack = randint(0, num_knapsacks - 1)\n",
    "\n",
    "        # update the solution\n",
    "        solution[id_knapsack, item_idx] = 1\n",
    "        \n",
    "    return solution"
   ]
  },
  {
   "cell_type": "code",
   "execution_count": 26,
   "id": "cadfca1b",
   "metadata": {},
   "outputs": [],
   "source": [
    "def fitness(solution, problem):\n",
    "    \"\"\"\n",
    "    Calculates the fitness of a solution.\n",
    "    \"\"\"\n",
    "\n",
    "    # check the basic constraint: an item cannot be carried by more then 1 knapsack\n",
    "    # if the sum of the items in the same column >= 1 it means that\n",
    "    # at leats 2 knapsacks are carrying the item, so a fitness of 0 is returned\n",
    "    if np.any(np.sum(solution, axis=0) > 1):\n",
    "        return 0\n",
    "\n",
    "    values = problem[\"VALUES\"]\n",
    "    weights = problem[\"WEIGHTS\"]\n",
    "    constraints = problem[\"CONSTRAINTS\"]\n",
    "\n",
    "    # sum all the values for each row based on the items that each knapsack carries\n",
    "    total_value = np.sum(solution * values)\n",
    "    # get the total weights for each knapsack\n",
    "    knapsack_loads = solution @ weights\n",
    "\n",
    "    # Check if any constraint is violated\n",
    "    if np.any(knapsack_loads > constraints):\n",
    "        return 0 \n",
    "    else:\n",
    "        return total_value"
   ]
  },
  {
   "cell_type": "markdown",
   "id": "45c42c88",
   "metadata": {},
   "source": [
    "### ALGORITHMS"
   ]
  },
  {
   "cell_type": "code",
   "execution_count": 27,
   "id": "e2ce3c1c",
   "metadata": {},
   "outputs": [],
   "source": [
    "def hill_climbing(problem, max_iterations=10000):\n",
    "    \"\"\"\n",
    "    Performs Hill Climbing.\n",
    "    \"\"\"\n",
    "\n",
    "    # get the variables from the given problem\n",
    "    num_knapsacks = problem[\"NUM_KNAPSACKS\"]\n",
    "    num_items = problem[\"NUM_ITEMS\"]\n",
    "\n",
    "    # generate a random solution (starting point)\n",
    "    current_solution = generate_clean_random_solution(num_knapsacks, num_items)\n",
    "\n",
    "    # calculate the fitness for the current_solution\n",
    "    current_fitness = fitness(current_solution, problem)\n",
    "    print(f\"Starting Hill Climbing with initial fitness: {current_fitness}\")\n",
    "\n",
    "    for i in range(max_iterations):\n",
    "        # create a neighbor solution by making one small change\n",
    "        neighbor_solution = current_solution.copy()\n",
    "        \n",
    "        # pick a random item to move\n",
    "        item_to_move = np.random.randint(num_items)\n",
    "        # pick a new knapsack for it (-1 means removing it)\n",
    "        new_knapsack = np.random.randint(-1, num_knapsacks)\n",
    "\n",
    "        # remove the item from wherever it is\n",
    "        neighbor_solution[:, item_to_move] = 0\n",
    "        # place it in its new knapsack (if not being removed)\n",
    "        if new_knapsack != -1:\n",
    "            neighbor_solution[new_knapsack, item_to_move] = 1\n",
    "\n",
    "        # evaluate the neighbor by calculating its fitness\n",
    "        neighbor_fitness = fitness(neighbor_solution, problem)\n",
    "\n",
    "        # if the neighbor is better, move to it\n",
    "        if neighbor_fitness > current_fitness:\n",
    "            current_solution = neighbor_solution\n",
    "            current_fitness = neighbor_fitness\n",
    "            print(f\"Iteration {i}: Found better solution with fitness {current_fitness}\")\n",
    "\n",
    "    print(\"\\nHill Climbing finished\")\n",
    "    return current_solution, current_fitness"
   ]
  },
  {
   "cell_type": "code",
   "execution_count": 28,
   "id": "2156f28f",
   "metadata": {},
   "outputs": [],
   "source": [
    "def simulated_annealing(problem, initial_temp, final_temp, cooling_rate):\n",
    "    \"\"\"\n",
    "    Performs a Simulated Annealing search to solve the MMKP.\n",
    "    \"\"\"\n",
    "    num_knapsacks = problem[\"NUM_KNAPSACKS\"]\n",
    "    num_items = problem[\"NUM_ITEMS\"]\n",
    "\n",
    "    # Start with a valid random solution\n",
    "    current_solution = generate_clean_random_solution(num_knapsacks, num_items)\n",
    "    current_fitness = fitness(current_solution, problem)\n",
    "\n",
    "    # We need to keep track of the best solution found so far\n",
    "    best_solution = current_solution\n",
    "    best_fitness = current_fitness\n",
    "\n",
    "    temp = initial_temp\n",
    "    print(f\"Starting SA with initial fitness: {current_fitness}, Temp: {temp:.2f}\")\n",
    "\n",
    "    iteration = 0\n",
    "    while temp > final_temp:\n",
    "        # Create a neighbor solution by making one small change\n",
    "        neighbor_solution = current_solution.copy()\n",
    "        item_to_move = np.random.randint(num_items)\n",
    "        new_knapsack = np.random.randint(-1, num_knapsacks)\n",
    "        \n",
    "        # Move the item\n",
    "        neighbor_solution[:, item_to_move] = 0\n",
    "        if new_knapsack != -1:\n",
    "            neighbor_solution[new_knapsack, item_to_move] = 1\n",
    "\n",
    "        neighbor_fitness = fitness(neighbor_solution, problem)\n",
    "        \n",
    "        # Calculate the change in fitness\n",
    "        delta_fitness = neighbor_fitness - current_fitness\n",
    "\n",
    "        # Core of the SA algorithm: The Acceptance Criterion\n",
    "        if delta_fitness > 0:\n",
    "            # If the neighbor is better, always accept it\n",
    "            current_solution = neighbor_solution\n",
    "            current_fitness = neighbor_fitness\n",
    "        else:\n",
    "            # If the neighbor is worse, accept it with a certain probability\n",
    "            # The probability decreases as temperature drops\n",
    "            acceptance_probability = math.exp(delta_fitness / temp)\n",
    "            if np.random.random() < acceptance_probability:\n",
    "                current_solution = neighbor_solution\n",
    "                current_fitness = neighbor_fitness\n",
    "\n",
    "        # Update the overall best solution found\n",
    "        if current_fitness > best_fitness:\n",
    "            best_solution = current_solution\n",
    "            best_fitness = current_fitness\n",
    "            print(f\"Iter {iteration}: New best fitness -> {best_fitness} (Temp: {temp:.2f})\")\n",
    "            \n",
    "        # Cool the temperature\n",
    "        temp *= cooling_rate\n",
    "        iteration += 1\n",
    "\n",
    "    print(\"\\nSimulated Annealing finished.\")\n",
    "    return best_solution, best_fitness"
   ]
  },
  {
   "cell_type": "markdown",
   "id": "8e0e0673",
   "metadata": {},
   "source": [
    "## TEST PROBLEMS"
   ]
  },
  {
   "cell_type": "code",
   "execution_count": 29,
   "id": "5595db9c",
   "metadata": {},
   "outputs": [],
   "source": [
    "# Problem 1:\n",
    "rng = np.random.default_rng(seed=42)\n",
    "NUM_KNAPSACKS = 3\n",
    "NUM_ITEMS = 20\n",
    "NUM_DIMENSIONS = 2\n",
    "VALUES = rng.integers(0, 100, size=NUM_ITEMS)\n",
    "WEIGHTS = rng.integers(0, 100, size=(NUM_ITEMS, NUM_DIMENSIONS))\n",
    "CONSTRAINTS = rng.integers(\n",
    "    0, 100 * NUM_ITEMS // NUM_KNAPSACKS, size=(NUM_KNAPSACKS, NUM_DIMENSIONS)\n",
    ")\n",
    "\n",
    "# getting problem p1\n",
    "p1 = get_problem(NUM_KNAPSACKS, NUM_ITEMS, NUM_DIMENSIONS, VALUES, WEIGHTS, CONSTRAINTS)"
   ]
  },
  {
   "cell_type": "code",
   "execution_count": 30,
   "id": "9eed08a0",
   "metadata": {},
   "outputs": [],
   "source": [
    "# Problem 2:\n",
    "rng = np.random.default_rng(seed=42)\n",
    "NUM_KNAPSACKS = 10\n",
    "NUM_ITEMS = 100\n",
    "NUM_DIMENSIONS = 10\n",
    "VALUES = rng.integers(0, 1000, size=NUM_ITEMS)\n",
    "WEIGHTS = rng.integers(0, 1000, size=(NUM_ITEMS, NUM_DIMENSIONS))\n",
    "CONSTRAINTS = rng.integers(\n",
    "    1000 * 2, 1000 * NUM_ITEMS // NUM_KNAPSACKS, size=(NUM_KNAPSACKS, NUM_DIMENSIONS)\n",
    ")\n",
    "\n",
    "p2 = get_problem(NUM_KNAPSACKS, NUM_ITEMS, NUM_DIMENSIONS, VALUES, WEIGHTS, CONSTRAINTS)"
   ]
  },
  {
   "cell_type": "code",
   "execution_count": 31,
   "id": "117380d6",
   "metadata": {},
   "outputs": [],
   "source": [
    "# Problem 3:\n",
    "rng = np.random.default_rng(seed=42)\n",
    "NUM_KNAPSACKS = 100\n",
    "NUM_ITEMS = 5000\n",
    "NUM_DIMENSIONS = 100\n",
    "VALUES = rng.integers(0, 1000, size=NUM_ITEMS)\n",
    "WEIGHTS = rng.integers(0, 1000, size=(NUM_ITEMS, NUM_DIMENSIONS))\n",
    "CONSTRAINTS = rng.integers(\n",
    "    1000 * 10, 1000 * 2 * NUM_ITEMS // NUM_KNAPSACKS, size=(NUM_KNAPSACKS, NUM_DIMENSIONS)\n",
    ")\n",
    "\n",
    "p3 = get_problem(NUM_KNAPSACKS, NUM_ITEMS, NUM_DIMENSIONS, VALUES, WEIGHTS, CONSTRAINTS)"
   ]
  },
  {
   "cell_type": "markdown",
   "id": "6f6786a9",
   "metadata": {},
   "source": [
    "#### TEST - HILL CLIMBING"
   ]
  },
  {
   "cell_type": "code",
   "execution_count": 32,
   "id": "26414372",
   "metadata": {},
   "outputs": [
    {
     "name": "stdout",
     "output_type": "stream",
     "text": [
      "TEST - HILL CLIMBING\n",
      "PROBLEM 1\n",
      "Starting Hill Climbing with initial fitness: 503\n",
      "Iteration 0: Found better solution with fitness 568\n",
      "Iteration 7: Found better solution with fitness 611\n",
      "Iteration 8: Found better solution with fitness 694\n",
      "Iteration 10: Found better solution with fitness 737\n",
      "Iteration 11: Found better solution with fitness 815\n",
      "Iteration 16: Found better solution with fitness 824\n",
      "Iteration 18: Found better solution with fitness 895\n",
      "Iteration 31: Found better solution with fitness 940\n",
      "Iteration 41: Found better solution with fitness 1025\n",
      "Iteration 126: Found better solution with fitness 1037\n",
      "Iteration 134: Found better solution with fitness 1045\n",
      "Iteration 157: Found better solution with fitness 1065\n",
      "\n",
      "Hill Climbing finished\n",
      "Best fitness: 1065\n",
      "Best solution:\n",
      " [[0 0 0 0 1 1 1 1 1 1 1 0 0 0 1 0 0 1 0 1]\n",
      " [1 1 0 1 0 0 0 0 0 0 0 0 1 0 0 1 1 0 0 0]\n",
      " [0 0 1 0 0 0 0 0 0 0 0 1 0 1 0 0 0 0 1 0]]\n"
     ]
    }
   ],
   "source": [
    "print(\"TEST - HILL CLIMBING\")\n",
    "print(\"PROBLEM 1\")\n",
    "best_solution, best_fitness = hill_climbing(p1, max_iterations = 20000)\n",
    "\n",
    "print(f\"Best fitness: {best_fitness}\")\n",
    "print(f\"Best solution:\\n {best_solution}\")"
   ]
  },
  {
   "cell_type": "code",
   "execution_count": 33,
   "id": "2491251a",
   "metadata": {},
   "outputs": [
    {
     "name": "stdout",
     "output_type": "stream",
     "text": [
      "PROBLEM 2\n",
      "Starting Hill Climbing with initial fitness: 0\n",
      "\n",
      "Hill Climbing finished\n",
      "Best fitness: 0\n",
      "Best solution:\n",
      " [[0 0 0 0 0 0 0 0 0 0 1 1 0 0 1 0 0 0 0 0 0 1 0 0 0 0 0 0 0 0 0 0 0 0 0 0\n",
      "  0 0 0 0 0 0 1 0 0 0 0 0 0 0 0 0 0 0 0 0 0 0 0 0 0 0 0 0 0 1 0 0 0 0 0 0\n",
      "  0 0 0 0 0 0 0 0 0 0 0 0 0 0 0 0 0 0 0 0 0 0 0 0 0 0 0 0]\n",
      " [0 0 0 0 0 0 0 0 0 0 0 0 0 1 0 0 0 0 0 0 0 0 0 0 0 0 0 0 0 1 0 0 0 0 0 0\n",
      "  0 0 0 0 0 0 0 0 0 0 0 0 0 0 0 0 0 0 0 0 0 0 0 0 0 0 0 0 0 0 0 1 0 0 0 0\n",
      "  0 0 0 0 0 0 0 0 0 0 0 0 0 0 0 1 0 0 0 0 1 0 0 0 0 0 0 0]\n",
      " [0 0 0 0 0 0 0 0 0 0 0 0 0 0 0 0 0 0 0 0 0 0 0 0 0 0 0 0 1 0 0 0 0 0 0 0\n",
      "  0 0 0 0 0 0 0 0 0 0 0 0 0 0 0 0 0 0 0 0 0 1 0 0 0 0 0 0 0 0 0 0 0 0 0 0\n",
      "  0 0 0 0 0 0 0 0 0 0 0 0 0 0 0 0 0 0 0 0 0 0 0 0 0 0 0 0]\n",
      " [1 0 0 0 0 0 0 0 0 0 0 0 0 0 0 0 0 1 0 0 0 0 0 1 0 0 0 0 0 0 0 0 0 0 0 0\n",
      "  0 0 0 0 1 0 0 0 0 0 0 0 0 0 0 0 0 0 0 0 0 0 0 0 0 0 0 0 0 0 0 0 0 0 0 0\n",
      "  0 0 0 1 0 0 0 1 0 0 0 1 0 0 0 0 0 0 0 0 0 0 0 0 0 0 0 0]\n",
      " [0 1 1 0 0 0 0 0 0 0 0 0 0 0 0 0 0 0 0 0 0 0 0 0 0 0 0 0 0 0 0 0 0 1 0 0\n",
      "  0 0 0 0 0 0 0 0 0 0 0 0 1 0 0 0 0 1 0 0 0 0 0 1 0 0 0 0 0 0 0 0 0 0 0 0\n",
      "  0 0 0 0 0 0 0 0 0 0 0 0 0 0 1 0 0 0 1 0 0 0 0 0 0 0 0 0]\n",
      " [0 0 0 0 0 0 0 0 0 0 0 0 0 0 0 1 0 0 0 0 0 0 0 0 0 0 0 0 0 0 0 0 0 0 0 0\n",
      "  0 0 0 0 0 0 0 0 0 0 0 0 0 0 0 0 0 0 0 0 0 0 0 0 0 0 0 1 0 0 0 0 1 0 0 0\n",
      "  0 0 0 0 0 0 0 0 0 0 0 0 0 0 0 0 0 0 0 0 0 0 0 0 0 0 0 0]\n",
      " [0 0 0 0 0 0 0 0 0 0 0 0 0 0 0 0 0 0 0 0 0 0 0 0 0 0 0 0 0 0 0 0 1 0 0 0\n",
      "  0 0 0 0 0 0 0 0 0 0 0 0 0 0 0 0 0 0 0 0 0 0 0 0 0 0 0 0 0 0 0 0 0 1 0 0\n",
      "  0 0 0 0 0 0 0 0 0 0 0 0 0 0 0 0 0 0 0 0 0 0 0 0 0 0 1 0]\n",
      " [0 0 0 0 0 0 0 0 0 0 0 0 0 0 0 0 0 0 0 0 0 0 0 0 0 0 0 0 0 0 0 0 0 0 0 0\n",
      "  0 0 0 0 0 0 0 0 0 0 0 0 0 0 0 0 1 0 0 0 1 0 0 0 1 0 0 0 0 0 0 0 0 0 0 1\n",
      "  0 1 0 0 0 0 0 0 0 0 0 0 0 0 0 0 0 0 0 0 0 1 0 0 0 0 0 0]\n",
      " [0 0 0 0 0 0 1 0 0 0 0 0 0 0 0 0 0 0 0 0 1 0 0 0 0 1 0 0 0 0 0 0 0 0 1 1\n",
      "  0 0 0 0 0 1 0 1 1 0 0 0 0 0 0 0 0 0 0 0 0 0 1 0 0 0 0 0 0 0 0 0 0 0 1 0\n",
      "  0 0 0 0 0 0 0 0 0 0 0 0 0 0 0 0 0 0 0 0 0 0 0 0 0 1 0 1]\n",
      " [0 0 0 0 0 0 0 1 0 0 0 0 0 0 0 0 1 0 0 0 0 0 0 0 0 0 0 0 0 0 1 0 0 0 0 0\n",
      "  0 0 0 0 0 0 0 0 0 0 0 0 0 0 0 0 0 0 0 0 0 0 0 0 0 0 0 0 0 0 0 0 0 0 0 0\n",
      "  0 0 0 0 0 0 0 0 0 0 1 0 0 0 0 0 1 0 0 0 0 0 0 0 0 0 0 0]]\n"
     ]
    }
   ],
   "source": [
    "print(\"PROBLEM 2\")\n",
    "best_solution, best_fitness = hill_climbing(p2, max_iterations = 20000)\n",
    "\n",
    "print(f\"Best fitness: {best_fitness}\")\n",
    "print(f\"Best solution:\\n {best_solution}\")"
   ]
  },
  {
   "cell_type": "code",
   "execution_count": 34,
   "id": "a89f0a82",
   "metadata": {},
   "outputs": [
    {
     "name": "stdout",
     "output_type": "stream",
     "text": [
      "PROBLEM 3\n",
      "Starting Hill Climbing with initial fitness: 0\n",
      "\n",
      "Hill Climbing finished\n",
      "Best fitness: 0\n",
      "Best solution:\n",
      " [[0 0 0 ... 0 0 0]\n",
      " [0 0 0 ... 0 0 0]\n",
      " [0 0 0 ... 0 0 0]\n",
      " ...\n",
      " [0 0 0 ... 0 0 0]\n",
      " [0 0 0 ... 0 0 0]\n",
      " [0 0 0 ... 0 0 0]]\n"
     ]
    }
   ],
   "source": [
    "print(\"PROBLEM 3\")\n",
    "best_solution, best_fitness = hill_climbing(p3, max_iterations = 100)\n",
    "\n",
    "print(f\"Best fitness: {best_fitness}\")\n",
    "print(f\"Best solution:\\n {best_solution}\")"
   ]
  },
  {
   "cell_type": "markdown",
   "id": "9965a089",
   "metadata": {},
   "source": [
    "### TEST - SIMULATED ANNILING"
   ]
  },
  {
   "cell_type": "code",
   "execution_count": 35,
   "id": "8d0ee82a",
   "metadata": {},
   "outputs": [
    {
     "name": "stdout",
     "output_type": "stream",
     "text": [
      "TEST - SIMULATED ANNEALING\n"
     ]
    }
   ],
   "source": [
    "print(\"TEST - SIMULATED ANNEALING\")\n",
    "\n",
    "INITIAL_TEMPERATURE = 100.0\n",
    "FINAL_TEMPERATURE = 0.1\n",
    "COOLING_RATE = 0.999"
   ]
  },
  {
   "cell_type": "code",
   "execution_count": 36,
   "id": "eb287582",
   "metadata": {},
   "outputs": [
    {
     "name": "stdout",
     "output_type": "stream",
     "text": [
      "PROBLEM 1\n",
      "Starting SA with initial fitness: 0, Temp: 100.00\n",
      "Iter 11: New best fitness -> 692 (Temp: 98.91)\n",
      "Iter 27: New best fitness -> 775 (Temp: 97.33)\n",
      "Iter 29: New best fitness -> 787 (Temp: 97.14)\n",
      "Iter 43: New best fitness -> 821 (Temp: 95.79)\n",
      "Iter 51: New best fitness -> 833 (Temp: 95.03)\n",
      "Iter 52: New best fitness -> 878 (Temp: 94.93)\n",
      "Iter 53: New best fitness -> 886 (Temp: 94.84)\n",
      "Iter 67: New best fitness -> 901 (Temp: 93.52)\n",
      "Iter 81: New best fitness -> 962 (Temp: 92.22)\n",
      "Iter 130: New best fitness -> 993 (Temp: 87.80)\n",
      "Iter 539: New best fitness -> 1025 (Temp: 58.32)\n",
      "Iter 540: New best fitness -> 1037 (Temp: 58.26)\n",
      "Iter 1149: New best fitness -> 1045 (Temp: 31.68)\n",
      "Iter 1175: New best fitness -> 1057 (Temp: 30.86)\n",
      "Iter 2190: New best fitness -> 1065 (Temp: 11.18)\n",
      "\n",
      "Simulated Annealing finished.\n",
      "Best fitness: 1065\n",
      "Best solution:\n",
      " [[1 0 0 0 1 0 1 1 0 0 0 1 0 1 1 1 0 1 0 1]\n",
      " [0 1 0 0 0 0 0 0 1 1 1 0 1 0 0 0 1 0 1 0]\n",
      " [0 0 1 1 0 1 0 0 0 0 0 0 0 0 0 0 0 0 0 0]]\n"
     ]
    }
   ],
   "source": [
    "print(\"PROBLEM 1\")\n",
    "best_solution, best_fitness = simulated_annealing(p1, INITIAL_TEMPERATURE, FINAL_TEMPERATURE, COOLING_RATE)\n",
    "\n",
    "print(f\"Best fitness: {best_fitness}\")\n",
    "print(f\"Best solution:\\n {best_solution}\")"
   ]
  },
  {
   "cell_type": "code",
   "execution_count": 37,
   "id": "b5d944ea",
   "metadata": {},
   "outputs": [
    {
     "name": "stdout",
     "output_type": "stream",
     "text": [
      "PROBLEM 2\n",
      "Starting SA with initial fitness: 0, Temp: 100.00\n",
      "\n",
      "Simulated Annealing finished.\n",
      "Best fitness: 0\n",
      "Best solution:\n",
      " [[0 0 0 0 0 0 0 0 0 0 0 0 0 0 0 0 0 0 0 0 0 0 0 0 0 0 1 0 0 1 0 0 0 0 0 0\n",
      "  0 0 0 0 0 0 0 0 0 0 0 0 0 0 1 0 0 0 0 0 1 1 0 0 1 0 0 0 0 0 1 0 0 1 1 0\n",
      "  0 0 0 0 0 0 0 0 0 0 0 0 0 0 0 0 0 0 0 0 0 0 0 1 0 0 0 0]\n",
      " [0 0 0 0 0 0 0 0 0 0 0 0 0 0 0 0 0 0 0 0 0 0 0 0 0 0 0 0 0 0 0 0 0 0 0 1\n",
      "  0 0 0 0 0 0 0 0 0 0 0 0 0 1 0 0 0 1 0 0 0 0 0 0 0 0 0 0 0 1 0 0 0 0 0 0\n",
      "  1 0 0 0 1 0 0 0 0 0 0 0 0 0 0 0 0 0 0 0 0 0 0 0 0 1 1 0]\n",
      " [0 0 0 0 0 0 0 0 0 0 0 0 0 0 0 0 0 0 0 0 0 0 0 0 0 0 0 0 0 0 0 0 0 0 0 0\n",
      "  0 0 0 0 0 0 1 0 0 0 0 0 0 0 0 0 0 0 0 0 0 0 0 0 0 0 0 0 0 0 0 0 0 0 0 0\n",
      "  0 0 0 0 0 0 0 0 0 0 0 0 0 0 0 0 0 0 0 0 0 0 0 0 0 0 0 0]\n",
      " [0 0 0 0 0 0 0 0 0 0 1 0 0 1 0 0 0 0 0 0 0 0 0 0 0 0 0 0 0 0 0 0 0 0 0 0\n",
      "  0 0 0 0 0 0 0 0 0 0 0 0 0 0 0 0 0 0 0 1 0 0 0 0 0 0 0 0 0 0 0 0 0 0 0 0\n",
      "  0 0 0 0 0 0 1 0 0 0 0 1 0 0 0 0 0 0 0 0 0 0 0 0 0 0 0 0]\n",
      " [1 0 0 0 0 0 0 1 0 0 0 0 0 0 0 0 0 0 0 0 0 0 0 0 0 0 0 0 0 0 0 0 0 1 0 0\n",
      "  0 0 0 0 0 0 0 1 0 0 0 0 0 0 0 0 0 0 0 0 0 0 0 0 0 0 0 0 0 0 0 0 0 0 0 0\n",
      "  0 0 0 0 0 0 0 0 0 0 0 0 0 1 0 0 0 0 0 0 0 0 0 0 0 0 0 0]\n",
      " [0 0 0 0 0 0 0 0 0 0 0 0 0 0 0 0 1 0 0 0 0 0 0 0 0 0 0 0 0 0 1 0 0 0 0 0\n",
      "  0 0 0 0 0 0 0 0 0 0 0 0 1 0 0 0 0 0 0 0 0 0 0 0 0 0 0 0 0 0 0 0 0 0 0 0\n",
      "  0 0 0 0 0 0 0 0 0 0 0 0 0 0 0 0 0 1 0 0 0 0 0 0 0 0 0 0]\n",
      " [0 0 1 0 0 0 1 0 0 0 0 0 0 0 0 0 0 0 1 0 0 0 0 0 1 0 0 0 0 0 0 0 0 0 0 0\n",
      "  0 0 0 0 0 0 0 0 0 0 0 0 0 0 0 0 0 0 0 0 0 0 0 0 0 0 0 0 0 0 0 0 0 0 0 0\n",
      "  0 0 0 0 0 0 0 0 0 0 0 0 0 0 0 0 0 0 0 0 0 0 0 0 0 0 0 1]\n",
      " [0 0 0 0 0 0 0 0 0 0 0 0 0 0 1 0 0 0 0 0 0 0 0 0 0 0 0 0 0 0 0 0 1 0 0 0\n",
      "  0 0 0 0 1 0 0 0 0 0 0 0 0 0 0 0 0 0 0 0 0 0 0 0 0 0 0 0 0 0 0 0 0 0 0 0\n",
      "  0 0 0 0 0 0 0 0 1 0 0 0 0 0 0 0 0 0 0 0 0 0 0 0 0 0 0 0]\n",
      " [0 0 0 0 0 0 0 0 0 0 0 0 0 0 0 0 0 0 0 1 0 0 0 0 0 0 0 0 1 0 0 1 0 0 0 0\n",
      "  0 0 1 1 0 0 0 0 0 0 1 0 0 0 0 0 0 0 0 0 0 0 0 0 0 0 0 0 0 0 0 0 0 0 0 0\n",
      "  0 0 0 0 0 0 0 0 0 0 0 0 0 0 0 1 0 0 0 0 0 0 0 0 0 0 0 0]\n",
      " [0 0 0 0 0 0 0 0 0 0 0 0 0 0 0 0 0 1 0 0 0 0 0 0 0 0 0 1 0 0 0 0 0 0 0 0\n",
      "  0 0 0 0 0 0 0 0 0 0 0 0 0 0 0 0 0 0 0 0 0 0 0 0 0 0 0 0 0 0 0 0 1 0 0 0\n",
      "  0 0 0 0 0 0 0 0 0 0 1 0 0 0 0 0 0 0 0 1 0 0 0 0 0 0 0 0]]\n"
     ]
    }
   ],
   "source": [
    "print(\"PROBLEM 2\")\n",
    "best_solution, best_fitness = simulated_annealing(p2, INITIAL_TEMPERATURE, FINAL_TEMPERATURE, COOLING_RATE)\n",
    "\n",
    "print(f\"Best fitness: {best_fitness}\")\n",
    "print(f\"Best solution:\\n {best_solution}\")"
   ]
  },
  {
   "cell_type": "code",
   "execution_count": 38,
   "id": "9f94e030",
   "metadata": {},
   "outputs": [
    {
     "name": "stdout",
     "output_type": "stream",
     "text": [
      "PROBLEM 3\n",
      "Starting SA with initial fitness: 0, Temp: 100.00\n"
     ]
    },
    {
     "ename": "KeyboardInterrupt",
     "evalue": "",
     "output_type": "error",
     "traceback": [
      "\u001b[0;31m---------------------------------------------------------------------------\u001b[0m",
      "\u001b[0;31mKeyboardInterrupt\u001b[0m                         Traceback (most recent call last)",
      "Cell \u001b[0;32mIn[38], line 2\u001b[0m\n\u001b[1;32m      1\u001b[0m \u001b[38;5;28mprint\u001b[39m(\u001b[38;5;124m\"\u001b[39m\u001b[38;5;124mPROBLEM 3\u001b[39m\u001b[38;5;124m\"\u001b[39m)\n\u001b[0;32m----> 2\u001b[0m best_solution, best_fitness \u001b[38;5;241m=\u001b[39m simulated_annealing(p3, INITIAL_TEMPERATURE, FINAL_TEMPERATURE, COOLING_RATE)\n\u001b[1;32m      4\u001b[0m \u001b[38;5;28mprint\u001b[39m(\u001b[38;5;124mf\u001b[39m\u001b[38;5;124m\"\u001b[39m\u001b[38;5;124mBest fitness: \u001b[39m\u001b[38;5;132;01m{\u001b[39;00mbest_fitness\u001b[38;5;132;01m}\u001b[39;00m\u001b[38;5;124m\"\u001b[39m)\n\u001b[1;32m      5\u001b[0m \u001b[38;5;28mprint\u001b[39m(\u001b[38;5;124mf\u001b[39m\u001b[38;5;124m\"\u001b[39m\u001b[38;5;124mBest solution:\u001b[39m\u001b[38;5;130;01m\\n\u001b[39;00m\u001b[38;5;124m \u001b[39m\u001b[38;5;132;01m{\u001b[39;00mbest_solution\u001b[38;5;132;01m}\u001b[39;00m\u001b[38;5;124m\"\u001b[39m)\n",
      "Cell \u001b[0;32mIn[28], line 31\u001b[0m, in \u001b[0;36msimulated_annealing\u001b[0;34m(problem, initial_temp, final_temp, cooling_rate)\u001b[0m\n\u001b[1;32m     28\u001b[0m \u001b[38;5;28;01mif\u001b[39;00m new_knapsack \u001b[38;5;241m!=\u001b[39m \u001b[38;5;241m-\u001b[39m\u001b[38;5;241m1\u001b[39m:\n\u001b[1;32m     29\u001b[0m     neighbor_solution[new_knapsack, item_to_move] \u001b[38;5;241m=\u001b[39m \u001b[38;5;241m1\u001b[39m\n\u001b[0;32m---> 31\u001b[0m neighbor_fitness \u001b[38;5;241m=\u001b[39m fitness(neighbor_solution, problem)\n\u001b[1;32m     33\u001b[0m \u001b[38;5;66;03m# Calculate the change in fitness\u001b[39;00m\n\u001b[1;32m     34\u001b[0m delta_fitness \u001b[38;5;241m=\u001b[39m neighbor_fitness \u001b[38;5;241m-\u001b[39m current_fitness\n",
      "Cell \u001b[0;32mIn[26], line 22\u001b[0m, in \u001b[0;36mfitness\u001b[0;34m(solution, problem)\u001b[0m\n\u001b[1;32m     19\u001b[0m knapsack_loads \u001b[38;5;241m=\u001b[39m solution \u001b[38;5;241m@\u001b[39m weights\n\u001b[1;32m     21\u001b[0m \u001b[38;5;66;03m# Check if any constraint is violated\u001b[39;00m\n\u001b[0;32m---> 22\u001b[0m \u001b[38;5;28;01mif\u001b[39;00m np\u001b[38;5;241m.\u001b[39many(knapsack_loads \u001b[38;5;241m>\u001b[39m constraints):\n\u001b[1;32m     23\u001b[0m     \u001b[38;5;28;01mreturn\u001b[39;00m \u001b[38;5;241m0\u001b[39m \n\u001b[1;32m     24\u001b[0m \u001b[38;5;28;01melse\u001b[39;00m:\n",
      "File \u001b[0;32m~/anaconda3/envs/ml/lib/python3.11/site-packages/numpy/_core/fromnumeric.py:2472\u001b[0m, in \u001b[0;36m_any_dispatcher\u001b[0;34m(a, axis, out, keepdims, where)\u001b[0m\n\u001b[1;32m   2464\u001b[0m         \u001b[38;5;28;01mreturn\u001b[39;00m res\n\u001b[1;32m   2466\u001b[0m     \u001b[38;5;28;01mreturn\u001b[39;00m _wrapreduction(\n\u001b[1;32m   2467\u001b[0m         a, np\u001b[38;5;241m.\u001b[39madd, \u001b[38;5;124m'\u001b[39m\u001b[38;5;124msum\u001b[39m\u001b[38;5;124m'\u001b[39m, axis, dtype, out,\n\u001b[1;32m   2468\u001b[0m         keepdims\u001b[38;5;241m=\u001b[39mkeepdims, initial\u001b[38;5;241m=\u001b[39minitial, where\u001b[38;5;241m=\u001b[39mwhere\n\u001b[1;32m   2469\u001b[0m     )\n\u001b[0;32m-> 2472\u001b[0m \u001b[38;5;28;01mdef\u001b[39;00m \u001b[38;5;21m_any_dispatcher\u001b[39m(a, axis\u001b[38;5;241m=\u001b[39m\u001b[38;5;28;01mNone\u001b[39;00m, out\u001b[38;5;241m=\u001b[39m\u001b[38;5;28;01mNone\u001b[39;00m, keepdims\u001b[38;5;241m=\u001b[39m\u001b[38;5;28;01mNone\u001b[39;00m, \u001b[38;5;241m*\u001b[39m,\n\u001b[1;32m   2473\u001b[0m                     where\u001b[38;5;241m=\u001b[39mnp\u001b[38;5;241m.\u001b[39m_NoValue):\n\u001b[1;32m   2474\u001b[0m     \u001b[38;5;28;01mreturn\u001b[39;00m (a, where, out)\n\u001b[1;32m   2477\u001b[0m \u001b[38;5;129m@array_function_dispatch\u001b[39m(_any_dispatcher)\n\u001b[1;32m   2478\u001b[0m \u001b[38;5;28;01mdef\u001b[39;00m \u001b[38;5;21many\u001b[39m(a, axis\u001b[38;5;241m=\u001b[39m\u001b[38;5;28;01mNone\u001b[39;00m, out\u001b[38;5;241m=\u001b[39m\u001b[38;5;28;01mNone\u001b[39;00m, keepdims\u001b[38;5;241m=\u001b[39mnp\u001b[38;5;241m.\u001b[39m_NoValue, \u001b[38;5;241m*\u001b[39m, where\u001b[38;5;241m=\u001b[39mnp\u001b[38;5;241m.\u001b[39m_NoValue):\n",
      "\u001b[0;31mKeyboardInterrupt\u001b[0m: "
     ]
    }
   ],
   "source": [
    "print(\"PROBLEM 3\")\n",
    "best_solution, best_fitness = simulated_annealing(p3, INITIAL_TEMPERATURE, FINAL_TEMPERATURE, COOLING_RATE)\n",
    "\n",
    "print(f\"Best fitness: {best_fitness}\")\n",
    "print(f\"Best solution:\\n {best_solution}\")"
   ]
  },
  {
   "cell_type": "markdown",
   "id": "f49a84bd",
   "metadata": {},
   "source": [
    "### CONSIDERATIONS\n",
    "\n",
    "So far we have tried both the hill climbing and the simulated annealing on all the 3 problems.\n",
    "\n",
    "RESULTS:\n",
    "Both the algorithms achieve a feasible result for problem 1, but they fail when it comes to finding a solution for problems 2 and 3.\n",
    "This is due to the small set of KNAPSACKS, ITEMS and DIMENSIONS that permits to find a better solution after some iterations even if we start from an invalid solution.\n",
    "With Problems 2 and 3 we likely start with an invalid solution in an area that is far away from a feasible solution, for this reason even after a lot of iteration we don't have an improvement."
   ]
  },
  {
   "cell_type": "markdown",
   "id": "dc3b7de2",
   "metadata": {},
   "source": []
  }
 ],
 "metadata": {
  "kernelspec": {
   "display_name": "ml",
   "language": "python",
   "name": "python3"
  },
  "language_info": {
   "codemirror_mode": {
    "name": "ipython",
    "version": 3
   },
   "file_extension": ".py",
   "mimetype": "text/x-python",
   "name": "python",
   "nbconvert_exporter": "python",
   "pygments_lexer": "ipython3",
   "version": "3.11.11"
  }
 },
 "nbformat": 4,
 "nbformat_minor": 5
}
