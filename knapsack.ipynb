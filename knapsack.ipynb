{
 "cells": [
  {
   "cell_type": "markdown",
   "id": "11fa4375",
   "metadata": {},
   "source": [
    "Copyright **`(c)`** 2025 Giovanni Squillero `<giovanni.squillero@polito.it>`  \n",
    "[`https://github.com/squillero/computational-intelligence`](https://github.com/squillero/computational-intelligence)  \n",
    "Free under certain conditions — see the [`license`](https://github.com/squillero/computational-intelligence/blob/master/LICENSE.md) for details.  "
   ]
  },
  {
   "cell_type": "code",
   "execution_count": 16,
   "id": "c0882a9f",
   "metadata": {},
   "outputs": [],
   "source": [
    "import numpy as np"
   ]
  },
  {
   "cell_type": "markdown",
   "id": "f75d79f5",
   "metadata": {},
   "source": [
    "## Problem Description\n",
    "\n",
    "GOAL: maximizing the value and minimizing the weight of objects carried by the <NUM_KNAPSACKS> knapsacks\n",
    "\n",
    "We should respect the contraints on the weight, which defines how much weights a knapsack can carry.\n",
    "\n",
    "a dimension defines a contraint on a napsack.\n",
    "Ex. [x, y, z] -> 3 constraints on backpack 1."
   ]
  },
  {
   "cell_type": "markdown",
   "id": "31d9f591",
   "metadata": {},
   "source": [
    "## Hill climbing - Techniques Used\n",
    "\n",
    "select randomly a knapsack\n",
    "\n",
    "2 kinds of tweaks:\n",
    "- if the weights go out of the constraints don't carry the object\n",
    "- if constraints are satisfied, try to add a random object. If that random object is already selected, try to add another one. Save the state only if the solution is better (hill climbing)"
   ]
  },
  {
   "cell_type": "code",
   "execution_count": 17,
   "id": "3adb670e",
   "metadata": {},
   "outputs": [],
   "source": [
    "NUM_KNAPSACKS = 2\n",
    "NUM_ITEMS = 10\n",
    "NUM_DIMENSIONS = 2"
   ]
  },
  {
   "cell_type": "code",
   "execution_count": 18,
   "id": "2db51e99",
   "metadata": {},
   "outputs": [],
   "source": [
    "VALUES = np.random.randint(0, 100, size=NUM_ITEMS)\n",
    "WEIGHTS = np.random.randint(0, 100, size=(NUM_ITEMS, NUM_DIMENSIONS))\n",
    "CONSTRAINTS = np.random.randint(0, 100 * NUM_ITEMS // NUM_KNAPSACKS, size=NUM_DIMENSIONS)"
   ]
  },
  {
   "cell_type": "code",
   "execution_count": 19,
   "id": "dade6b3c",
   "metadata": {},
   "outputs": [],
   "source": [
    "# A random solution - starting point\n",
    "solution = np.array(\n",
    "    [np.random.random(NUM_ITEMS) < 0.5 for _ in range(NUM_KNAPSACKS)], dtype=np.bool\n",
    ")"
   ]
  },
  {
   "cell_type": "code",
   "execution_count": 20,
   "id": "f21d5749",
   "metadata": {},
   "outputs": [
    {
     "data": {
      "text/plain": [
       "array([[ True,  True,  True, False, False, False, False, False, False,\n",
       "        False],\n",
       "       [ True, False,  True,  True,  True, False,  True,  True, False,\n",
       "         True]])"
      ]
     },
     "execution_count": 20,
     "metadata": {},
     "output_type": "execute_result"
    }
   ],
   "source": [
    "solution"
   ]
  },
  {
   "cell_type": "code",
   "execution_count": 21,
   "id": "7de9a3fb",
   "metadata": {},
   "outputs": [
    {
     "data": {
      "text/plain": [
       "np.False_"
      ]
     },
     "execution_count": 21,
     "metadata": {},
     "output_type": "execute_result"
    }
   ],
   "source": [
    "# Check that the same object does not appear in multiple knapsacks\n",
    "np.all(solution.sum(axis=0) <= 1)"
   ]
  },
  {
   "cell_type": "code",
   "execution_count": 22,
   "id": "54d5b5ee",
   "metadata": {},
   "outputs": [
    {
     "data": {
      "text/plain": [
       "np.True_"
      ]
     },
     "execution_count": 22,
     "metadata": {},
     "output_type": "execute_result"
    }
   ],
   "source": [
    "# Check if the solution is valid\n",
    "all_knapsacks = np.any(solution, axis=0)\n",
    "np.all(WEIGHTS[all_knapsacks].sum(axis=0) < CONSTRAINTS)"
   ]
  },
  {
   "cell_type": "markdown",
   "id": "94f2e7b0",
   "metadata": {},
   "source": [
    "## FUNCTIONS UTILS"
   ]
  },
  {
   "cell_type": "code",
   "execution_count": 23,
   "id": "fdd37374",
   "metadata": {},
   "outputs": [],
   "source": [
    "# the solution already starts with 1 object that is carried exactly by 1 knapsack,\n",
    "# so we will never have 1 \n",
    "\n",
    "def gen_solution(NUM_KNAPSACKS, NUM_ITEMS):\n",
    "    # A random solution - starting point\n",
    "    solution = np.array(\n",
    "        [np.random.random(NUM_ITEMS) < 0.5 for _ in range(NUM_KNAPSACKS)], dtype=np.int32\n",
    "    )\n",
    "\n",
    "    return solution"
   ]
  },
  {
   "cell_type": "code",
   "execution_count": 24,
   "id": "2bbe1e02",
   "metadata": {},
   "outputs": [],
   "source": [
    "def print_info(VALUES, WEIGHTS, CONSTRAINTS):\n",
    "    print(f\"VALUES: {VALUES}\")\n",
    "    print(f\"WEIGHTS: {WEIGHTS}\")\n",
    "    print(f\"CONSTRAINTS: {CONSTRAINTS}\")"
   ]
  },
  {
   "cell_type": "code",
   "execution_count": 25,
   "id": "41a20b78",
   "metadata": {},
   "outputs": [],
   "source": [
    "def reset_matrix(NUM_KNAPSACKS, NUM_ITEMS):\n",
    "    return np.zeros((NUM_KNAPSACKS, NUM_ITEMS), dtype = np.int8)"
   ]
  },
  {
   "cell_type": "code",
   "execution_count": null,
   "id": "9446389a",
   "metadata": {},
   "outputs": [],
   "source": [
    "# return TRUE if al constraints are satisfied, FALSE otherwise\n",
    "\n",
    "def constrain_satisfied(matrix):\n"
   ]
  },
  {
   "cell_type": "markdown",
   "id": "8e0e0673",
   "metadata": {},
   "source": [
    "## TEST PROBLEMS"
   ]
  },
  {
   "cell_type": "markdown",
   "id": "bf25ece8",
   "metadata": {},
   "source": [
    "rng = np.random.default_rng(seed = 42)  #Random Number Generator"
   ]
  },
  {
   "cell_type": "code",
   "execution_count": 26,
   "id": "5595db9c",
   "metadata": {},
   "outputs": [
    {
     "name": "stdout",
     "output_type": "stream",
     "text": [
      "VALUES: [ 8 77 65 43 43 85  8 69 20  9 52 97 73 76 71 78 51 12 83 45]\n",
      "WEIGHTS: [[50 37]\n",
      " [18 92]\n",
      " [78 64]\n",
      " [40 82]\n",
      " [54 44]\n",
      " [45 22]\n",
      " [ 9 55]\n",
      " [88  6]\n",
      " [85 82]\n",
      " [27 63]\n",
      " [16 75]\n",
      " [70 35]\n",
      " [ 6 97]\n",
      " [44 89]\n",
      " [67 77]\n",
      " [75 19]\n",
      " [36 46]\n",
      " [49  4]\n",
      " [54 15]\n",
      " [74 68]]\n",
      "CONSTRAINTS: [614 496]\n"
     ]
    }
   ],
   "source": [
    "# Problem 1:\n",
    "rng = np.random.default_rng(seed=42)\n",
    "NUM_KNAPSACKS = 3\n",
    "NUM_ITEMS = 20\n",
    "NUM_DIMENSIONS = 2\n",
    "VALUES = rng.integers(0, 100, size=NUM_ITEMS)\n",
    "WEIGHTS = rng.integers(0, 100, size=(NUM_ITEMS, NUM_DIMENSIONS))\n",
    "CONSTRAINTS = rng.integers(0, 100 * NUM_ITEMS // NUM_KNAPSACKS, size=NUM_DIMENSIONS)\n",
    "\n",
    "print_info(VALUES, WEIGHTS, CONSTRAINTS)"
   ]
  },
  {
   "cell_type": "code",
   "execution_count": 27,
   "id": "afa8b9d6",
   "metadata": {},
   "outputs": [
    {
     "name": "stdout",
     "output_type": "stream",
     "text": [
      "[[1 1 0 1 1 1 1 1 1 1 0 1 1 1 1 0 0 0 1 1]\n",
      " [1 1 1 1 1 0 0 1 1 0 0 1 1 1 1 0 1 0 0 0]\n",
      " [0 0 0 0 1 0 0 0 1 1 0 0 0 0 0 0 0 1 1 0]]\n"
     ]
    }
   ],
   "source": [
    "starting_solution = gen_solution(NUM_KNAPSACKS, NUM_ITEMS)\n",
    "print(starting_solution)"
   ]
  },
  {
   "cell_type": "code",
   "execution_count": null,
   "id": "5b08ddba",
   "metadata": {},
   "outputs": [],
   "source": []
  },
  {
   "cell_type": "code",
   "execution_count": 28,
   "id": "9eed08a0",
   "metadata": {},
   "outputs": [],
   "source": [
    "# Problem 2:\n",
    "rng = np.random.default_rng(seed=42)\n",
    "NUM_KNAPSACKS = 10\n",
    "NUM_ITEMS = 100\n",
    "NUM_DIMENSIONS = 10\n",
    "VALUES = rng.integers(0, 1000, size=NUM_ITEMS)\n",
    "WEIGHTS = rng.integers(0, 1000, size=(NUM_ITEMS, NUM_DIMENSIONS))\n",
    "CONSTRAINTS = rng.integers(1000 * 2, 1000 * NUM_ITEMS // NUM_KNAPSACKS, size=NUM_DIMENSIONS)\n",
    "\n",
    "# print_info(VALUES, WEIGHTS, CONSTRAINTS)"
   ]
  },
  {
   "cell_type": "code",
   "execution_count": 29,
   "id": "117380d6",
   "metadata": {},
   "outputs": [],
   "source": [
    "# Problem 3:\n",
    "rng = np.random.default_rng(seed=42)\n",
    "NUM_KNAPSACKS = 100\n",
    "NUM_ITEMS = 5000\n",
    "NUM_DIMENSIONS = 100\n",
    "VALUES = rng.integers(0, 1000, size=NUM_ITEMS)\n",
    "WEIGHTS = rng.integers(0, 1000, size=(NUM_ITEMS, NUM_DIMENSIONS))\n",
    "CONSTRAINTS = rng.integers(1000 * 10, 1000 * 2 * NUM_ITEMS // NUM_KNAPSACKS, size=NUM_DIMENSIONS)\n",
    "\n",
    "# print_info(VALUES, WEIGHTS, CONSTRAINTS)"
   ]
  },
  {
   "cell_type": "code",
   "execution_count": null,
   "id": "42e789f3",
   "metadata": {},
   "outputs": [],
   "source": []
  }
 ],
 "metadata": {
  "kernelspec": {
   "display_name": "ml",
   "language": "python",
   "name": "python3"
  },
  "language_info": {
   "codemirror_mode": {
    "name": "ipython",
    "version": 3
   },
   "file_extension": ".py",
   "mimetype": "text/x-python",
   "name": "python",
   "nbconvert_exporter": "python",
   "pygments_lexer": "ipython3",
   "version": "3.11.11"
  }
 },
 "nbformat": 4,
 "nbformat_minor": 5
}
