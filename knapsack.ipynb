{
 "cells": [
  {
   "cell_type": "markdown",
   "id": "11fa4375",
   "metadata": {},
   "source": [
    "Copyright **`(c)`** 2025 Giovanni Squillero `<giovanni.squillero@polito.it>`  \n",
    "[`https://github.com/squillero/computational-intelligence`](https://github.com/squillero/computational-intelligence)  \n",
    "Free under certain conditions — see the [`license`](https://github.com/squillero/computational-intelligence/blob/master/LICENSE.md) for details.  "
   ]
  },
  {
   "cell_type": "markdown",
   "id": "c095bc1a",
   "metadata": {},
   "source": [
    "## Problem Description\n",
    "\n",
    "random notes: \n",
    "\n",
    "- GOAL: maximizing the value and minimizing the weight of objects carried by the <NUM_KNAPSACKS> knapsacks\n",
    "\n",
    "- We should respect the contraints on the weight, which defines how much weights a knapsack can carry.\n",
    "\n",
    "- a dimension defines a contraint on a napsack.\n",
    "Ex. [x, y, z] -> 3 constraints on backpack 1.\n",
    "\n",
    "- The solution is represented by a 2D matrix (NUM_KNAPSACKS, NUM_ITEMS). Each row represents a knapsack and for each row we have a list of carried items where its length = NUM_ITEMS. Each element of the list is either a 1 if the knapsack carries the item, or is 0 if it doesn't carry the item.\n",
    "\n",
    "- the fitness of the function is defined by overall value carried by all the knapsacks combined (sum of single total value of each knapsack)"
   ]
  },
  {
   "cell_type": "code",
   "execution_count": 1,
   "id": "c0882a9f",
   "metadata": {},
   "outputs": [],
   "source": [
    "import numpy as np\n",
    "from random import randint\n",
    "import math"
   ]
  },
  {
   "cell_type": "code",
   "execution_count": 2,
   "id": "3adb670e",
   "metadata": {},
   "outputs": [],
   "source": [
    "NUM_KNAPSACKS = 3\n",
    "NUM_ITEMS = 10\n",
    "NUM_DIMENSIONS = 2"
   ]
  },
  {
   "cell_type": "code",
   "execution_count": 3,
   "id": "2db51e99",
   "metadata": {},
   "outputs": [],
   "source": [
    "VALUES = np.random.randint(0, 100, size=NUM_ITEMS)\n",
    "WEIGHTS = np.random.randint(0, 100, size=(NUM_ITEMS, NUM_DIMENSIONS))\n",
    "CONSTRAINTS = np.random.randint(\n",
    "    0, 100 * NUM_ITEMS // NUM_KNAPSACKS, size=(NUM_KNAPSACKS, NUM_DIMENSIONS)\n",
    ")"
   ]
  },
  {
   "cell_type": "code",
   "execution_count": 4,
   "id": "15da2136",
   "metadata": {},
   "outputs": [
    {
     "data": {
      "text/plain": [
       "array([[157, 132],\n",
       "       [298, 124],\n",
       "       [143, 263]])"
      ]
     },
     "execution_count": 4,
     "metadata": {},
     "output_type": "execute_result"
    }
   ],
   "source": [
    "CONSTRAINTS"
   ]
  },
  {
   "cell_type": "code",
   "execution_count": 5,
   "id": "995c10cf",
   "metadata": {},
   "outputs": [],
   "source": [
    "# A random solution - starting point\n",
    "solution = np.array(\n",
    "    [np.random.random(NUM_ITEMS) < 0.5 for _ in range(NUM_KNAPSACKS)], dtype=np.bool\n",
    ")"
   ]
  },
  {
   "cell_type": "markdown",
   "id": "843ee7f4",
   "metadata": {},
   "source": [
    "### UTILS"
   ]
  },
  {
   "cell_type": "code",
   "execution_count": 6,
   "id": "f8fcf3bc",
   "metadata": {},
   "outputs": [],
   "source": [
    "def get_problem(NUM_KNAPSACKS, NUM_ITEMS, NUM_DIMENSIONS, VALUES, WEIGHTS, CONSTRAINTS):\n",
    "    return {\n",
    "        \"NUM_KNAPSACKS\": NUM_KNAPSACKS,\n",
    "        \"NUM_ITEMS\": NUM_ITEMS,\n",
    "        \"NUM_DIMENSIONS\": NUM_DIMENSIONS,\n",
    "        \"VALUES\": VALUES,\n",
    "        \"WEIGHTS\": WEIGHTS,\n",
    "        \"CONSTRAINTS\": CONSTRAINTS,\n",
    "    }"
   ]
  },
  {
   "cell_type": "code",
   "execution_count": 7,
   "id": "53141f6b",
   "metadata": {},
   "outputs": [],
   "source": [
    "def generate_random_solution(num_knapsacks, num_items):\n",
    "    \"\"\"\n",
    "    generate a pure random solution. In this case is possible to start\n",
    "    from a starting point where you have items that are carried by more than 1 knapsack.\n",
    "    \"\"\"\n",
    "    \n",
    "    solution = np.array(\n",
    "        [np.random.random(num_items) < 0.5 for _ in range(num_knapsacks)], dtype=np.int8\n",
    "    )\n",
    "\n",
    "    return solution"
   ]
  },
  {
   "cell_type": "code",
   "execution_count": 8,
   "id": "12d88b46",
   "metadata": {},
   "outputs": [],
   "source": [
    "def generate_clean_random_solution(num_knapsacks, num_items):\n",
    "    \"\"\"\n",
    "    generate a random solution that satisfy the first constraint\n",
    "    (that is each item is either not carried or carried from exactly 1 item).\n",
    "    \"\"\"\n",
    "\n",
    "    # generate a 2D matrix (num_knapsacks, num_items) full of 0s.\n",
    "    solution = np.zeros((num_knapsacks, num_items), dtype=int)\n",
    "\n",
    "    # iterate over the columns\n",
    "    for item_idx in range(num_items):\n",
    "\n",
    "        # generate random number:\n",
    "        # if 0 the item is not carried\n",
    "        # if 1 the item is carried by 1 knapsack\n",
    "        carried = randint(0, 1)\n",
    "    \n",
    "        if carried == 0:\n",
    "            continue\n",
    "        \n",
    "        # generate a random index that identifies the knapsack that carries the item\n",
    "        id_knapsack = randint(0, num_knapsacks - 1)\n",
    "\n",
    "        # update the solution\n",
    "        solution[id_knapsack, item_idx] = 1\n",
    "        \n",
    "    return solution"
   ]
  },
  {
   "cell_type": "code",
   "execution_count": 9,
   "id": "cadfca1b",
   "metadata": {},
   "outputs": [],
   "source": [
    "def fitness(solution, problem):\n",
    "    \"\"\"\n",
    "    Calculates the fitness of a solution.\n",
    "    \"\"\"\n",
    "\n",
    "    # check the basic constraint: an item cannot be carried by more then 1 knapsack\n",
    "    # if the sum of the items in the same column >= 1 it means that\n",
    "    # at leats 2 knapsacks are carrying the item, so a fitness of 0 is returned\n",
    "    if np.any(np.sum(solution, axis=0) > 1):\n",
    "        return 0\n",
    "\n",
    "    values = problem[\"VALUES\"]\n",
    "    weights = problem[\"WEIGHTS\"]\n",
    "    constraints = problem[\"CONSTRAINTS\"]\n",
    "\n",
    "    # sum all the values for each row based on the items that each knapsack carries\n",
    "    total_value = np.sum(solution * values)\n",
    "    # get the total weights for each knapsack\n",
    "    knapsack_loads = solution @ weights\n",
    "\n",
    "    # Check if any constraint is violated\n",
    "    if np.any(knapsack_loads > constraints):\n",
    "        return 0 \n",
    "    else:\n",
    "        return total_value"
   ]
  },
  {
   "cell_type": "markdown",
   "id": "45c42c88",
   "metadata": {},
   "source": [
    "### ALGORITHMS"
   ]
  },
  {
   "cell_type": "code",
   "execution_count": 10,
   "id": "e2ce3c1c",
   "metadata": {},
   "outputs": [],
   "source": [
    "def hill_climbing(problem, max_iterations=10000):\n",
    "    \"\"\"\n",
    "    Performs Hill Climbing.\n",
    "    \"\"\"\n",
    "\n",
    "    # get the variables from the given problem\n",
    "    num_knapsacks = problem[\"NUM_KNAPSACKS\"]\n",
    "    num_items = problem[\"NUM_ITEMS\"]\n",
    "\n",
    "    # generate a random solution (starting point)\n",
    "    current_solution = generate_clean_random_solution(num_knapsacks, num_items)\n",
    "\n",
    "    # calculate the fitness for the current_solution\n",
    "    current_fitness = fitness(current_solution, problem)\n",
    "    print(f\"Starting Hill Climbing with initial fitness: {current_fitness}\")\n",
    "\n",
    "    for i in range(max_iterations):\n",
    "        # create a neighbor solution by making one small change\n",
    "        neighbor_solution = current_solution.copy()\n",
    "        \n",
    "        # pick a random item to move\n",
    "        item_to_move = np.random.randint(num_items)\n",
    "        # pick a new knapsack for it (-1 means removing it)\n",
    "        new_knapsack = np.random.randint(-1, num_knapsacks)\n",
    "\n",
    "        # remove the item from wherever it is\n",
    "        neighbor_solution[:, item_to_move] = 0\n",
    "        # place it in its new knapsack (if not being removed)\n",
    "        if new_knapsack != -1:\n",
    "            neighbor_solution[new_knapsack, item_to_move] = 1\n",
    "\n",
    "        # evaluate the neighbor by calculating its fitness\n",
    "        neighbor_fitness = fitness(neighbor_solution, problem)\n",
    "\n",
    "        # if the neighbor is better, move to it\n",
    "        if neighbor_fitness > current_fitness:\n",
    "            current_solution = neighbor_solution\n",
    "            current_fitness = neighbor_fitness\n",
    "            print(f\"Iteration {i}: Found better solution with fitness {current_fitness}\")\n",
    "\n",
    "    print(\"\\nHill Climbing finished\")\n",
    "    return current_solution, current_fitness"
   ]
  },
  {
   "cell_type": "code",
   "execution_count": 11,
   "id": "2156f28f",
   "metadata": {},
   "outputs": [],
   "source": [
    "def simulated_annealing(problem, initial_temp, final_temp, cooling_rate):\n",
    "    \"\"\"\n",
    "    Performs a Simulated Annealing search to solve the MMKP.\n",
    "    \"\"\"\n",
    "    num_knapsacks = problem[\"NUM_KNAPSACKS\"]\n",
    "    num_items = problem[\"NUM_ITEMS\"]\n",
    "\n",
    "    # Start with a valid random solution\n",
    "    current_solution = generate_clean_random_solution(num_knapsacks, num_items)\n",
    "    current_fitness = fitness(current_solution, problem)\n",
    "\n",
    "    # We need to keep track of the best solution found so far\n",
    "    best_solution = current_solution\n",
    "    best_fitness = current_fitness\n",
    "\n",
    "    temp = initial_temp\n",
    "    print(f\"Starting SA with initial fitness: {current_fitness}, Temp: {temp:.2f}\")\n",
    "\n",
    "    iteration = 0\n",
    "    while temp > final_temp:\n",
    "        # Create a neighbor solution by making one small change\n",
    "        neighbor_solution = current_solution.copy()\n",
    "        item_to_move = np.random.randint(num_items)\n",
    "        new_knapsack = np.random.randint(-1, num_knapsacks)\n",
    "        \n",
    "        # Move the item\n",
    "        neighbor_solution[:, item_to_move] = 0\n",
    "        if new_knapsack != -1:\n",
    "            neighbor_solution[new_knapsack, item_to_move] = 1\n",
    "\n",
    "        neighbor_fitness = fitness(neighbor_solution, problem)\n",
    "        \n",
    "        # Calculate the change in fitness\n",
    "        delta_fitness = neighbor_fitness - current_fitness\n",
    "\n",
    "        # Core of the SA algorithm: The Acceptance Criterion\n",
    "        if delta_fitness > 0:\n",
    "            # If the neighbor is better, always accept it\n",
    "            current_solution = neighbor_solution\n",
    "            current_fitness = neighbor_fitness\n",
    "        else:\n",
    "            # If the neighbor is worse, accept it with a certain probability\n",
    "            # The probability decreases as temperature drops\n",
    "            acceptance_probability = math.exp(delta_fitness / temp)\n",
    "            if np.random.random() < acceptance_probability:\n",
    "                current_solution = neighbor_solution\n",
    "                current_fitness = neighbor_fitness\n",
    "\n",
    "        # Update the overall best solution found\n",
    "        if current_fitness > best_fitness:\n",
    "            best_solution = current_solution\n",
    "            best_fitness = current_fitness\n",
    "            print(f\"Iter {iteration}: New best fitness -> {best_fitness} (Temp: {temp:.2f})\")\n",
    "            \n",
    "        # Cool the temperature\n",
    "        temp *= cooling_rate\n",
    "        iteration += 1\n",
    "\n",
    "    print(\"\\nSimulated Annealing finished.\")\n",
    "    return best_solution, best_fitness"
   ]
  },
  {
   "cell_type": "markdown",
   "id": "8e0e0673",
   "metadata": {},
   "source": [
    "## TEST PROBLEMS"
   ]
  },
  {
   "cell_type": "code",
   "execution_count": 12,
   "id": "5595db9c",
   "metadata": {},
   "outputs": [],
   "source": [
    "# Problem 1:\n",
    "rng = np.random.default_rng(seed=42)\n",
    "NUM_KNAPSACKS = 3\n",
    "NUM_ITEMS = 20\n",
    "NUM_DIMENSIONS = 2\n",
    "VALUES = rng.integers(0, 100, size=NUM_ITEMS)\n",
    "WEIGHTS = rng.integers(0, 100, size=(NUM_ITEMS, NUM_DIMENSIONS))\n",
    "CONSTRAINTS = rng.integers(\n",
    "    0, 100 * NUM_ITEMS // NUM_KNAPSACKS, size=(NUM_KNAPSACKS, NUM_DIMENSIONS)\n",
    ")\n",
    "\n",
    "# getting problem p1\n",
    "p1 = get_problem(NUM_KNAPSACKS, NUM_ITEMS, NUM_DIMENSIONS, VALUES, WEIGHTS, CONSTRAINTS)"
   ]
  },
  {
   "cell_type": "code",
   "execution_count": 13,
   "id": "9eed08a0",
   "metadata": {},
   "outputs": [],
   "source": [
    "# Problem 2:\n",
    "rng = np.random.default_rng(seed=42)\n",
    "NUM_KNAPSACKS = 10\n",
    "NUM_ITEMS = 100\n",
    "NUM_DIMENSIONS = 10\n",
    "VALUES = rng.integers(0, 1000, size=NUM_ITEMS)\n",
    "WEIGHTS = rng.integers(0, 1000, size=(NUM_ITEMS, NUM_DIMENSIONS))\n",
    "CONSTRAINTS = rng.integers(\n",
    "    1000 * 2, 1000 * NUM_ITEMS // NUM_KNAPSACKS, size=(NUM_KNAPSACKS, NUM_DIMENSIONS)\n",
    ")\n",
    "\n",
    "p2 = get_problem(NUM_KNAPSACKS, NUM_ITEMS, NUM_DIMENSIONS, VALUES, WEIGHTS, CONSTRAINTS)"
   ]
  },
  {
   "cell_type": "code",
   "execution_count": 14,
   "id": "117380d6",
   "metadata": {},
   "outputs": [],
   "source": [
    "# Problem 3:\n",
    "rng = np.random.default_rng(seed=42)\n",
    "NUM_KNAPSACKS = 100\n",
    "NUM_ITEMS = 5000\n",
    "NUM_DIMENSIONS = 100\n",
    "VALUES = rng.integers(0, 1000, size=NUM_ITEMS)\n",
    "WEIGHTS = rng.integers(0, 1000, size=(NUM_ITEMS, NUM_DIMENSIONS))\n",
    "CONSTRAINTS = rng.integers(\n",
    "    1000 * 10, 1000 * 2 * NUM_ITEMS // NUM_KNAPSACKS, size=(NUM_KNAPSACKS, NUM_DIMENSIONS)\n",
    ")\n",
    "\n",
    "p3 = get_problem(NUM_KNAPSACKS, NUM_ITEMS, NUM_DIMENSIONS, VALUES, WEIGHTS, CONSTRAINTS)"
   ]
  },
  {
   "cell_type": "markdown",
   "id": "6f6786a9",
   "metadata": {},
   "source": [
    "#### TEST - HILL CLIMBING"
   ]
  },
  {
   "cell_type": "code",
   "execution_count": 83,
   "id": "26414372",
   "metadata": {},
   "outputs": [
    {
     "name": "stdout",
     "output_type": "stream",
     "text": [
      "TEST - HILL CLIMBING\n",
      "PROBLEM 1\n",
      "Starting Hill Climbing with initial fitness: 644\n",
      "Iteration 1: Found better solution with fitness 656\n",
      "Iteration 2: Found better solution with fitness 699\n",
      "Iteration 8: Found better solution with fitness 775\n",
      "Iteration 13: Found better solution with fitness 872\n",
      "Iteration 23: Found better solution with fitness 955\n",
      "Iteration 67: Found better solution with fitness 1028\n",
      "Iteration 68: Found better solution with fitness 1048\n",
      "Iteration 106: Found better solution with fitness 1056\n",
      "Iteration 271: Found better solution with fitness 1065\n",
      "\n",
      "Hill Climbing finished\n",
      "Best fitness: 1065\n",
      "Best solution:\n",
      " [[0 0 0 1 0 0 1 1 1 1 0 1 0 1 0 1 1 1 0 0]\n",
      " [0 1 1 0 0 0 0 0 0 0 0 0 1 0 1 0 0 0 0 1]\n",
      " [1 0 0 0 1 1 0 0 0 0 1 0 0 0 0 0 0 0 1 0]]\n"
     ]
    }
   ],
   "source": [
    "print(\"TEST - HILL CLIMBING\")\n",
    "print(\"PROBLEM 1\")\n",
    "best_solution, best_fitness = hill_climbing(p1, max_iterations = 20000)\n",
    "\n",
    "print(f\"Best fitness: {best_fitness}\")\n",
    "print(f\"Best solution:\\n {best_solution}\")"
   ]
  },
  {
   "cell_type": "code",
   "execution_count": 84,
   "id": "2491251a",
   "metadata": {},
   "outputs": [
    {
     "name": "stdout",
     "output_type": "stream",
     "text": [
      "PROBLEM 2\n",
      "Starting Hill Climbing with initial fitness: 0\n",
      "\n",
      "Hill Climbing finished\n",
      "Best fitness: 0\n",
      "Best solution:\n",
      " [[0 0 0 0 0 0 0 0 0 0 0 1 0 0 0 0 0 0 0 0 0 0 0 0 0 0 0 0 0 0 0 0 0 0 0 0\n",
      "  0 0 1 0 0 0 0 0 0 0 0 0 0 1 0 0 0 0 0 0 0 0 0 0 0 0 0 0 0 0 0 0 0 0 0 0\n",
      "  0 0 0 0 0 0 0 0 0 0 0 0 1 0 0 1 0 0 0 0 0 1 1 0 0 0 0 0]\n",
      " [0 0 0 0 0 0 0 0 0 0 0 0 0 0 0 0 0 0 0 0 0 0 0 0 0 0 0 0 0 0 0 1 0 0 0 0\n",
      "  0 0 0 0 0 0 0 0 0 1 0 0 0 0 0 0 0 0 0 0 0 0 0 0 0 0 1 0 0 0 0 0 0 0 0 0\n",
      "  0 0 0 0 0 0 0 0 0 0 0 0 0 0 0 0 0 0 0 0 0 0 0 0 0 0 0 0]\n",
      " [0 0 0 0 0 0 1 0 0 0 0 0 0 0 0 0 0 0 0 0 0 1 0 0 0 0 0 0 0 0 0 0 0 0 0 0\n",
      "  0 0 0 0 0 0 0 0 0 0 0 0 0 0 0 0 0 0 0 0 0 0 0 0 0 0 0 0 0 0 0 0 0 0 0 0\n",
      "  0 0 0 0 0 0 0 0 0 0 0 0 0 0 0 0 0 0 0 0 0 0 0 0 0 0 0 1]\n",
      " [0 0 0 0 0 0 0 1 0 0 0 0 0 0 0 0 0 0 0 0 0 0 0 0 0 0 0 0 0 0 0 0 0 0 0 0\n",
      "  0 0 0 0 0 0 0 0 0 0 1 1 0 0 0 0 0 0 0 0 0 0 0 0 0 0 0 0 0 0 0 0 0 0 0 0\n",
      "  0 0 0 0 0 0 0 0 0 0 0 0 0 0 0 0 0 0 0 0 0 0 0 0 0 1 0 0]\n",
      " [0 0 0 0 0 0 0 0 0 0 0 0 0 0 0 0 0 0 0 0 0 0 0 0 0 0 0 0 0 0 0 0 0 0 0 1\n",
      "  0 1 0 0 0 0 0 0 0 0 0 0 1 0 0 0 0 0 0 0 0 0 0 0 0 0 0 0 0 0 0 0 0 1 0 0\n",
      "  0 0 0 0 0 1 0 0 0 0 0 0 0 0 0 0 0 0 1 0 0 0 0 0 0 0 0 0]\n",
      " [0 0 0 1 0 0 0 0 0 0 0 0 0 0 0 0 0 0 0 0 1 0 0 0 0 0 0 0 0 0 0 0 0 0 0 0\n",
      "  0 0 0 0 0 0 0 1 0 0 0 0 0 0 0 0 0 0 0 0 0 0 0 0 0 0 0 0 0 1 0 0 0 0 0 0\n",
      "  0 0 0 0 1 0 0 0 0 0 0 0 0 0 0 0 1 0 0 0 0 0 0 0 0 0 0 0]\n",
      " [0 0 0 0 0 0 0 0 0 0 0 0 0 0 0 0 0 0 0 0 0 0 0 0 0 0 0 0 0 0 0 0 0 0 0 0\n",
      "  0 0 0 0 0 0 0 0 0 0 0 0 0 0 0 0 1 0 0 1 0 1 0 0 0 0 0 0 0 0 0 0 0 0 0 0\n",
      "  0 0 0 0 0 0 0 0 0 0 0 0 0 0 0 0 0 0 0 0 0 0 0 0 0 0 0 0]\n",
      " [0 0 0 0 0 0 0 0 0 0 1 0 0 0 0 0 0 0 0 0 0 0 0 1 0 0 0 0 0 0 1 0 0 0 0 0\n",
      "  0 0 0 0 1 0 0 0 0 0 0 0 0 0 0 0 0 0 1 0 0 0 0 0 0 0 0 0 0 0 1 0 0 0 0 0\n",
      "  0 1 0 0 0 0 0 0 0 0 0 0 0 0 0 0 0 0 0 1 0 0 0 0 0 0 0 0]\n",
      " [0 0 0 0 0 0 0 0 1 0 0 0 0 0 0 0 0 0 0 0 0 0 0 0 0 0 0 0 0 0 0 0 0 1 0 0\n",
      "  0 0 0 0 0 1 0 0 0 0 0 0 0 0 0 0 0 0 0 0 0 0 0 0 0 0 0 0 1 0 0 0 0 0 0 0\n",
      "  0 0 0 0 0 0 0 0 0 1 0 0 0 0 0 0 0 0 0 0 0 0 0 0 0 0 0 0]\n",
      " [0 0 0 0 0 0 0 0 0 0 0 0 0 0 0 0 0 0 1 0 0 0 0 0 0 0 0 0 0 0 0 0 0 0 0 0\n",
      "  0 0 0 0 0 0 0 0 0 0 0 0 0 0 0 1 0 0 0 0 0 0 0 0 0 0 0 1 0 0 0 0 1 0 0 1\n",
      "  0 0 0 0 0 0 0 0 0 0 0 0 0 0 0 0 0 0 0 0 0 0 0 0 0 0 1 0]]\n"
     ]
    }
   ],
   "source": [
    "print(\"PROBLEM 2\")\n",
    "best_solution, best_fitness = hill_climbing(p2, max_iterations = 20000)\n",
    "\n",
    "print(f\"Best fitness: {best_fitness}\")\n",
    "print(f\"Best solution:\\n {best_solution}\")"
   ]
  },
  {
   "cell_type": "code",
   "execution_count": 85,
   "id": "a89f0a82",
   "metadata": {},
   "outputs": [
    {
     "name": "stdout",
     "output_type": "stream",
     "text": [
      "PROBLEM 3\n",
      "Starting Hill Climbing with initial fitness: 0\n",
      "\n",
      "Hill Climbing finished\n",
      "Best fitness: 0\n",
      "Best solution:\n",
      " [[0 0 0 ... 0 0 0]\n",
      " [0 0 0 ... 0 0 0]\n",
      " [0 0 0 ... 0 0 0]\n",
      " ...\n",
      " [0 0 0 ... 0 0 0]\n",
      " [0 0 0 ... 0 0 0]\n",
      " [0 0 0 ... 0 0 0]]\n"
     ]
    }
   ],
   "source": [
    "print(\"PROBLEM 3\")\n",
    "best_solution, best_fitness = hill_climbing(p3, max_iterations = 1000)\n",
    "\n",
    "print(f\"Best fitness: {best_fitness}\")\n",
    "print(f\"Best solution:\\n {best_solution}\")"
   ]
  },
  {
   "cell_type": "markdown",
   "id": "9965a089",
   "metadata": {},
   "source": [
    "### TEST - SIMULATED ANNILING"
   ]
  },
  {
   "cell_type": "code",
   "execution_count": null,
   "id": "8d0ee82a",
   "metadata": {},
   "outputs": [],
   "source": [
    "print(\"TEST - SIMULATED ANNEALING\")\n",
    "\n",
    "INITIAL_TEMPERATURE = 100.0\n",
    "FINAL_TEMPERATURE = 0.1\n",
    "COOLING_RATE = 0.999"
   ]
  },
  {
   "cell_type": "code",
   "execution_count": null,
   "id": "eb287582",
   "metadata": {},
   "outputs": [],
   "source": [
    "print(\"PROBLEM 1\")\n",
    "best_solution, best_fitness = simulated_annealing(p1, INITIAL_TEMPERATURE, FINAL_TEMPERATURE, COOLING_RATE)\n",
    "\n",
    "print(f\"Best fitness: {best_fitness}\")\n",
    "print(f\"Best solution:\\n {best_solution}\")"
   ]
  },
  {
   "cell_type": "code",
   "execution_count": null,
   "id": "b5d944ea",
   "metadata": {},
   "outputs": [],
   "source": [
    "print(\"PROBLEM 2\")\n",
    "best_solution, best_fitness = simulated_annealing(p2, INITIAL_TEMPERATURE, FINAL_TEMPERATURE, COOLING_RATE)\n",
    "\n",
    "print(f\"Best fitness: {best_fitness}\")\n",
    "print(f\"Best solution:\\n {best_solution}\")"
   ]
  },
  {
   "cell_type": "code",
   "execution_count": null,
   "id": "9f94e030",
   "metadata": {},
   "outputs": [],
   "source": [
    "print(\"PROBLEM 3\")\n",
    "best_solution, best_fitness = simulated_annealing(p3, INITIAL_TEMPERATURE, FINAL_TEMPERATURE, COOLING_RATE)\n",
    "\n",
    "print(f\"Best fitness: {best_fitness}\")\n",
    "print(f\"Best solution:\\n {best_solution}\")"
   ]
  }
 ],
 "metadata": {
  "kernelspec": {
   "display_name": "ml",
   "language": "python",
   "name": "python3"
  },
  "language_info": {
   "codemirror_mode": {
    "name": "ipython",
    "version": 3
   },
   "file_extension": ".py",
   "mimetype": "text/x-python",
   "name": "python",
   "nbconvert_exporter": "python",
   "pygments_lexer": "ipython3",
   "version": "3.11.11"
  }
 },
 "nbformat": 4,
 "nbformat_minor": 5
}
