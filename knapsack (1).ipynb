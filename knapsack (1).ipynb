{
 "cells": [
  {
   "cell_type": "markdown",
   "id": "11fa4375",
   "metadata": {},
   "source": [
    "Copyright **`(c)`** 2025 Giovanni Squillero `<giovanni.squillero@polito.it>`  \n",
    "[`https://github.com/squillero/computational-intelligence`](https://github.com/squillero/computational-intelligence)  \n",
    "Free under certain conditions — see the [`license`](https://github.com/squillero/computational-intelligence/blob/master/LICENSE.md) for details.  "
   ]
  },
  {
   "cell_type": "markdown",
   "id": "c095bc1a",
   "metadata": {},
   "source": [
    "## Problem Description\n",
    "\n",
    "random notes: \n",
    "\n",
    "- GOAL: maximizing the value and minimizing the weight of objects carried by the <NUM_KNAPSACKS> knapsacks\n",
    "\n",
    "- We should respect the contraints on the weight, which defines how much weights a knapsack can carry.\n",
    "\n",
    "- a dimension defines a contraint on a napsack.\n",
    "Ex. [x, y, z] -> 3 constraints on backpack 1.\n",
    "\n",
    "- The solution is represented by a 2D matrix (NUM_KNAPSACKS, NUM_ITEMS). Each row represents a knapsack and for each row we have a list of carried items where its length = NUM_ITEMS. Each element of the list is either a 1 if the knapsack carries the item, or is 0 if it doesn't carry the item."
   ]
  },
  {
   "cell_type": "code",
   "execution_count": 4,
   "id": "c0882a9f",
   "metadata": {},
   "outputs": [],
   "source": [
    "import numpy as np\n",
    "from random import randint"
   ]
  },
  {
   "cell_type": "code",
   "execution_count": 5,
   "id": "3adb670e",
   "metadata": {},
   "outputs": [],
   "source": [
    "NUM_KNAPSACKS = 3\n",
    "NUM_ITEMS = 10\n",
    "NUM_DIMENSIONS = 2"
   ]
  },
  {
   "cell_type": "code",
   "execution_count": 6,
   "id": "2db51e99",
   "metadata": {},
   "outputs": [],
   "source": [
    "VALUES = np.random.randint(0, 100, size=NUM_ITEMS)\n",
    "WEIGHTS = np.random.randint(0, 100, size=(NUM_ITEMS, NUM_DIMENSIONS))\n",
    "CONSTRAINTS = np.random.randint(\n",
    "    0, 100 * NUM_ITEMS // NUM_KNAPSACKS, size=(NUM_KNAPSACKS, NUM_DIMENSIONS)\n",
    ")"
   ]
  },
  {
   "cell_type": "code",
   "execution_count": 7,
   "id": "15da2136",
   "metadata": {},
   "outputs": [
    {
     "data": {
      "text/plain": [
       "array([[220,  86],\n",
       "       [308, 173],\n",
       "       [151,  17]])"
      ]
     },
     "execution_count": 7,
     "metadata": {},
     "output_type": "execute_result"
    }
   ],
   "source": [
    "CONSTRAINTS"
   ]
  },
  {
   "cell_type": "code",
   "execution_count": 8,
   "id": "995c10cf",
   "metadata": {},
   "outputs": [],
   "source": [
    "# A random solution - starting point\n",
    "solution = np.array(\n",
    "    [np.random.random(NUM_ITEMS) < 0.5 for _ in range(NUM_KNAPSACKS)], dtype=np.bool\n",
    ")"
   ]
  },
  {
   "cell_type": "markdown",
   "id": "843ee7f4",
   "metadata": {},
   "source": [
    "### UTILS"
   ]
  },
  {
   "cell_type": "code",
   "execution_count": 9,
   "id": "f8fcf3bc",
   "metadata": {},
   "outputs": [],
   "source": [
    "def get_problem(NUM_KNAPSACKS, NUM_ITEMS, NUM_DIMENSIONS, VALUES, WEIGHTS, CONSTRAINTS):\n",
    "    return {\n",
    "        \"NUM_KNAPSACKS\": NUM_KNAPSACKS,\n",
    "        \"NUM_ITEMS\": NUM_ITEMS,\n",
    "        \"NUM_DIMENSIONS\": NUM_DIMENSIONS,\n",
    "        \"VALUES\": VALUES,\n",
    "        \"WEIGHTS\": WEIGHTS,\n",
    "        \"CONSTRAINTS\": CONSTRAINTS,\n",
    "    }"
   ]
  },
  {
   "cell_type": "code",
   "execution_count": 10,
   "id": "53141f6b",
   "metadata": {},
   "outputs": [],
   "source": [
    "def generate_random_solution(num_knapsacks, num_items):\n",
    "    \"\"\"\n",
    "    generate a pure random solution. In this case is possible to start\n",
    "    from a starting point where you have items that are carried by more than 1 knapsack.\n",
    "    \"\"\"\n",
    "    \n",
    "    solution = np.array(\n",
    "        [np.random.random(num_items) < 0.5 for _ in range(num_knapsacks)], dtype=np.int8\n",
    "    )\n",
    "\n",
    "    return solution"
   ]
  },
  {
   "cell_type": "code",
   "execution_count": 11,
   "id": "12d88b46",
   "metadata": {},
   "outputs": [],
   "source": [
    "def generate_clean_random_solution(num_knapsacks, num_items):\n",
    "    \"\"\"\n",
    "    generate a random solution that satisfy the first constraint\n",
    "    (that is each item is either not carried or carried from exactly 1 item).\n",
    "    \"\"\"\n",
    "\n",
    "    # generate a 2D matrix (num_knapsacks, num_items) full of 0s.\n",
    "    solution = np.zeros((num_knapsacks, num_items), dtype=int)\n",
    "\n",
    "    # iterate over the columns\n",
    "    for item_idx in range(num_items):\n",
    "\n",
    "        # generate random number:\n",
    "        # if 0 the item is not carried\n",
    "        # if 1 the item is carried by 1 knapsack\n",
    "        carried = randint(0, 1)\n",
    "    \n",
    "        if carried == 0:\n",
    "            continue\n",
    "        \n",
    "        # generate a random index that identifies the knapsack that carries the item\n",
    "        id_knapsack = randint(0, num_knapsacks - 1)\n",
    "\n",
    "        # update the solution\n",
    "        solution[id_knapsack, item_idx] = 1\n",
    "        \n",
    "    return solution"
   ]
  },
  {
   "cell_type": "markdown",
   "id": "8e0e0673",
   "metadata": {},
   "source": [
    "## TEST PROBLEMS"
   ]
  },
  {
   "cell_type": "code",
   "execution_count": 12,
   "id": "5595db9c",
   "metadata": {},
   "outputs": [],
   "source": [
    "# Problem 1:\n",
    "rng = np.random.default_rng(seed=42)\n",
    "NUM_KNAPSACKS = 3\n",
    "NUM_ITEMS = 20\n",
    "NUM_DIMENSIONS = 2\n",
    "VALUES = rng.integers(0, 100, size=NUM_ITEMS)\n",
    "WEIGHTS = rng.integers(0, 100, size=(NUM_ITEMS, NUM_DIMENSIONS))\n",
    "CONSTRAINTS = rng.integers(\n",
    "    0, 100 * NUM_ITEMS // NUM_KNAPSACKS, size=(NUM_KNAPSACKS, NUM_DIMENSIONS)\n",
    ")\n",
    "\n",
    "# getting problem p1\n",
    "p1 = get_problem(NUM_KNAPSACKS, NUM_ITEMS, NUM_DIMENSIONS, VALUES, WEIGHTS, CONSTRAINTS)"
   ]
  },
  {
   "cell_type": "code",
   "execution_count": 13,
   "id": "9eed08a0",
   "metadata": {},
   "outputs": [],
   "source": [
    "# Problem 2:\n",
    "rng = np.random.default_rng(seed=42)\n",
    "NUM_KNAPSACKS = 10\n",
    "NUM_ITEMS = 100\n",
    "NUM_DIMENSIONS = 10\n",
    "VALUES = rng.integers(0, 1000, size=NUM_ITEMS)\n",
    "WEIGHTS = rng.integers(0, 1000, size=(NUM_ITEMS, NUM_DIMENSIONS))\n",
    "CONSTRAINTS = rng.integers(\n",
    "    1000 * 2, 1000 * NUM_ITEMS // NUM_KNAPSACKS, size=(NUM_KNAPSACKS, NUM_DIMENSIONS)\n",
    ")\n",
    "\n",
    "p2 = get_problem(NUM_KNAPSACKS, NUM_ITEMS, NUM_DIMENSIONS, VALUES, WEIGHTS, CONSTRAINTS)"
   ]
  },
  {
   "cell_type": "code",
   "execution_count": 14,
   "id": "117380d6",
   "metadata": {},
   "outputs": [],
   "source": [
    "# Problem 3:\n",
    "rng = np.random.default_rng(seed=42)\n",
    "NUM_KNAPSACKS = 100\n",
    "NUM_ITEMS = 5000\n",
    "NUM_DIMENSIONS = 100\n",
    "VALUES = rng.integers(0, 1000, size=NUM_ITEMS)\n",
    "WEIGHTS = rng.integers(0, 1000, size=(NUM_ITEMS, NUM_DIMENSIONS))\n",
    "CONSTRAINTS = rng.integers(\n",
    "    1000 * 10, 1000 * 2 * NUM_ITEMS // NUM_KNAPSACKS, size=(NUM_KNAPSACKS, NUM_DIMENSIONS)\n",
    ")\n",
    "\n",
    "p3 = get_problem(NUM_KNAPSACKS, NUM_ITEMS, NUM_DIMENSIONS, VALUES, WEIGHTS, CONSTRAINTS)"
   ]
  }
 ],
 "metadata": {
  "kernelspec": {
   "display_name": "ml",
   "language": "python",
   "name": "python3"
  },
  "language_info": {
   "codemirror_mode": {
    "name": "ipython",
    "version": 3
   },
   "file_extension": ".py",
   "mimetype": "text/x-python",
   "name": "python",
   "nbconvert_exporter": "python",
   "pygments_lexer": "ipython3",
   "version": "3.11.11"
  }
 },
 "nbformat": 4,
 "nbformat_minor": 5
}
